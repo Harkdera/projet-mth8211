{
 "cells": [
  {
   "cell_type": "markdown",
   "id": "2d31ec1e-cc2b-431d-b000-97a0bcf96f76",
   "metadata": {},
   "source": [
    "# 1. \n",
    "Comme $M$ est une matrice symmétrique définie positive, ses valeurs propres seront toutes réelles et positives et égales à ses valeurs singulières. Les valeurs propres de $M$ respecteront $Mv= cv$ pour une valeur propre $c$ réelle positive. Si on cherche maintenant les valeurs propres de $M + \\lambda² I$, on peut voir que\n",
    "$$\n",
    "\\begin{align}\n",
    " (M + \\lambda² I)v &= dv\\\\\n",
    "  Mv + \\lambda²v &= dv\\\\\n",
    "  Mv &= dv - \\lambda²v\\\\\n",
    "  cv &= dv - \\lambda²v\\\\\n",
    "  d &= c + \\lambda²\n",
    "\\end{align}\n",
    "$$\n",
    "\n",
    "Donc les valeurs propres (et singulières) de $M + \\lambda² I$ sont celles de $M$ mais décalé de $\\lambda²$. De cela, si le nombre de conditionnement de $M$ est \n",
    "$$ \\kappa(M) = \\sigma_\\text{max}(M) / \\sigma_\\text{min}(M) $$\n",
    "\n",
    "alors \n",
    "$$ \\kappa(M + \\lambda²) = (\\sigma_\\text{max}(M) + \\lambda²) / (\\sigma_\\text{min}(M)+ \\lambda²)$$\n",
    "\n",
    "Or comme $\\lambda² > 0$, cela implique que $ \\kappa(M) > \\kappa(M + \\lambda²)$."
   ]
  },
  {
   "cell_type": "markdown",
   "id": "29d6c4dd-3963-46be-8f0a-74656f04a7d2",
   "metadata": {},
   "source": [
    "# 2. "
   ]
  },
  {
   "cell_type": "markdown",
   "id": "2c4c8692-b658-4c04-a72f-b9477e4b017c",
   "metadata": {},
   "source": [
    "# 3. "
   ]
  },
  {
   "cell_type": "markdown",
   "id": "471a7d26-63ee-4cb4-b771-c04299819b23",
   "metadata": {},
   "source": [
    "# 4. "
   ]
  },
  {
   "cell_type": "markdown",
   "id": "cccb56c0-018d-49bb-80f4-98821f36f6bc",
   "metadata": {},
   "source": [
    "# 5. "
   ]
  },
  {
   "cell_type": "markdown",
   "id": "1ba301b3-a79d-4250-9e51-2427ad34ba28",
   "metadata": {},
   "source": [
    "# 6. "
   ]
  },
  {
   "cell_type": "markdown",
   "id": "14a09985-3d06-402e-abf4-38997cf4a465",
   "metadata": {},
   "source": [
    "# 7. "
   ]
  },
  {
   "cell_type": "markdown",
   "id": "0bd2853d-2c97-4405-98a8-ee5ee73c1d75",
   "metadata": {},
   "source": [
    "# 8. "
   ]
  },
  {
   "cell_type": "markdown",
   "id": "f18600f5-9f92-4faa-8125-c910b77801ad",
   "metadata": {},
   "source": [
    "# 9. "
   ]
  },
  {
   "cell_type": "markdown",
   "id": "112256d5-ea3d-490b-af18-d0628bef3e8e",
   "metadata": {},
   "source": [
    "# 10. "
   ]
  },
  {
   "cell_type": "markdown",
   "id": "d721031f-c46b-4c54-abad-71eab4a0a889",
   "metadata": {},
   "source": [
    "# 11. "
   ]
  },
  {
   "cell_type": "markdown",
   "id": "ee6297ae-e7d0-4d1d-a865-da1fc392d633",
   "metadata": {},
   "source": [
    "# 12. "
   ]
  },
  {
   "cell_type": "markdown",
   "id": "2260c054-c20c-4dd0-a832-ca25659f98c8",
   "metadata": {
    "jp-MarkdownHeadingCollapsed": true
   },
   "source": [
    "# 13. "
   ]
  },
  {
   "cell_type": "markdown",
   "id": "b33860b6-3c83-42d6-aedb-12a7da1c5d75",
   "metadata": {},
   "source": [
    "# 14. "
   ]
  },
  {
   "cell_type": "markdown",
   "id": "e5330e4d-04ff-44eb-8ae9-341994dd8854",
   "metadata": {},
   "source": [
    "# 15. "
   ]
  }
 ],
 "metadata": {
  "kernelspec": {
   "display_name": "Julia 1.10.4",
   "language": "julia",
   "name": "julia-1.10"
  },
  "language_info": {
   "file_extension": ".jl",
   "mimetype": "application/julia",
   "name": "julia",
   "version": "1.10.4"
  }
 },
 "nbformat": 4,
 "nbformat_minor": 5
}
